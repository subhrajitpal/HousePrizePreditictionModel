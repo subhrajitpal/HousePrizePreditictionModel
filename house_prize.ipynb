{
  "nbformat": 4,
  "nbformat_minor": 0,
  "metadata": {
    "colab": {
      "provenance": []
    },
    "kernelspec": {
      "name": "python3",
      "display_name": "Python 3"
    },
    "language_info": {
      "name": "python"
    }
  },
  "cells": [
    {
      "cell_type": "code",
      "execution_count": null,
      "metadata": {
        "id": "ymg_AcX9gUik"
      },
      "outputs": [],
      "source": [
        "#house prize prediction\n",
        "\n",
        "#supervised learning is of two types\n",
        "#1. classification  : predicts a class eg yes/no\n",
        "#2. regression : predicts a value eg rate\n",
        "\n",
        "#steps\n",
        "#step 1 : data preprocessing\n",
        "#step 2 : data analysis\n",
        "#step 3 : train test split\n",
        "#step 4 : XGBoosRegressor\n",
        "#step 5 : Evaluation\n"
      ]
    },
    {
      "cell_type": "code",
      "source": [
        "#importing the dependencies\n",
        "import numpy as np\n",
        "import pandas as pd\n",
        "import matplotlib.pyplot as plt\n",
        "import seaborn as sns\n",
        "import sklearn.datasets\n",
        "from sklearn.model_selection import train_test_split\n",
        "from xgboost import XGBRegressor\n",
        "from sklearn import metrics"
      ],
      "metadata": {
        "id": "3ovpV6VOj5WM"
      },
      "execution_count": null,
      "outputs": []
    },
    {
      "cell_type": "code",
      "source": [
        "#importing the Boston House Price Dataset\n",
        "house_price_data = pd.read_csv('/content/housing.csv')"
      ],
      "metadata": {
        "id": "7FhdFzOPkmsN"
      },
      "execution_count": null,
      "outputs": []
    },
    {
      "cell_type": "code",
      "source": [
        "print(house_price_data)"
      ],
      "metadata": {
        "colab": {
          "base_uri": "https://localhost:8080/"
        },
        "id": "kaNEF0MPXoC4",
        "outputId": "00fe4666-ff6c-4975-c815-49deda5ed298"
      },
      "execution_count": null,
      "outputs": [
        {
          "output_type": "stream",
          "name": "stdout",
          "text": [
            "        RM  LSTAT  PTRATIO      MEDV\n",
            "0    6.575   4.98     15.3  504000.0\n",
            "1    6.421   9.14     17.8  453600.0\n",
            "2    7.185   4.03     17.8  728700.0\n",
            "3    6.998   2.94     18.7  701400.0\n",
            "4    7.147   5.33     18.7  760200.0\n",
            "..     ...    ...      ...       ...\n",
            "484  6.593   9.67     21.0  470400.0\n",
            "485  6.120   9.08     21.0  432600.0\n",
            "486  6.976   5.64     21.0  501900.0\n",
            "487  6.794   6.48     21.0  462000.0\n",
            "488  6.030   7.88     21.0  249900.0\n",
            "\n",
            "[489 rows x 4 columns]\n"
          ]
        }
      ]
    },
    {
      "cell_type": "code",
      "source": [
        "house_price_data.isnull().sum()"
      ],
      "metadata": {
        "colab": {
          "base_uri": "https://localhost:8080/"
        },
        "id": "VuWLtoNVXwws",
        "outputId": "9fb0df5d-0e09-4eba-9a29-d8702399bfa5"
      },
      "execution_count": null,
      "outputs": [
        {
          "output_type": "execute_result",
          "data": {
            "text/plain": [
              "RM         0\n",
              "LSTAT      0\n",
              "PTRATIO    0\n",
              "MEDV       0\n",
              "dtype: int64"
            ]
          },
          "metadata": {},
          "execution_count": 25
        }
      ]
    },
    {
      "cell_type": "code",
      "source": [
        "house_price_data.describe()"
      ],
      "metadata": {
        "colab": {
          "base_uri": "https://localhost:8080/",
          "height": 300
        },
        "id": "Mf2h0QjxarKi",
        "outputId": "04846c61-2947-4ee8-e86b-626a1bb253ee"
      },
      "execution_count": null,
      "outputs": [
        {
          "output_type": "execute_result",
          "data": {
            "text/plain": [
              "               RM       LSTAT     PTRATIO          MEDV\n",
              "count  489.000000  489.000000  489.000000  4.890000e+02\n",
              "mean     6.240288   12.939632   18.516564  4.543429e+05\n",
              "std      0.643650    7.081990    2.111268  1.653403e+05\n",
              "min      3.561000    1.980000   12.600000  1.050000e+05\n",
              "25%      5.880000    7.370000   17.400000  3.507000e+05\n",
              "50%      6.185000   11.690000   19.100000  4.389000e+05\n",
              "75%      6.575000   17.120000   20.200000  5.187000e+05\n",
              "max      8.398000   37.970000   22.000000  1.024800e+06"
            ],
            "text/html": [
              "\n",
              "  <div id=\"df-8faa54b9-9231-43d0-8c7b-da04d7370bc4\">\n",
              "    <div class=\"colab-df-container\">\n",
              "      <div>\n",
              "<style scoped>\n",
              "    .dataframe tbody tr th:only-of-type {\n",
              "        vertical-align: middle;\n",
              "    }\n",
              "\n",
              "    .dataframe tbody tr th {\n",
              "        vertical-align: top;\n",
              "    }\n",
              "\n",
              "    .dataframe thead th {\n",
              "        text-align: right;\n",
              "    }\n",
              "</style>\n",
              "<table border=\"1\" class=\"dataframe\">\n",
              "  <thead>\n",
              "    <tr style=\"text-align: right;\">\n",
              "      <th></th>\n",
              "      <th>RM</th>\n",
              "      <th>LSTAT</th>\n",
              "      <th>PTRATIO</th>\n",
              "      <th>MEDV</th>\n",
              "    </tr>\n",
              "  </thead>\n",
              "  <tbody>\n",
              "    <tr>\n",
              "      <th>count</th>\n",
              "      <td>489.000000</td>\n",
              "      <td>489.000000</td>\n",
              "      <td>489.000000</td>\n",
              "      <td>4.890000e+02</td>\n",
              "    </tr>\n",
              "    <tr>\n",
              "      <th>mean</th>\n",
              "      <td>6.240288</td>\n",
              "      <td>12.939632</td>\n",
              "      <td>18.516564</td>\n",
              "      <td>4.543429e+05</td>\n",
              "    </tr>\n",
              "    <tr>\n",
              "      <th>std</th>\n",
              "      <td>0.643650</td>\n",
              "      <td>7.081990</td>\n",
              "      <td>2.111268</td>\n",
              "      <td>1.653403e+05</td>\n",
              "    </tr>\n",
              "    <tr>\n",
              "      <th>min</th>\n",
              "      <td>3.561000</td>\n",
              "      <td>1.980000</td>\n",
              "      <td>12.600000</td>\n",
              "      <td>1.050000e+05</td>\n",
              "    </tr>\n",
              "    <tr>\n",
              "      <th>25%</th>\n",
              "      <td>5.880000</td>\n",
              "      <td>7.370000</td>\n",
              "      <td>17.400000</td>\n",
              "      <td>3.507000e+05</td>\n",
              "    </tr>\n",
              "    <tr>\n",
              "      <th>50%</th>\n",
              "      <td>6.185000</td>\n",
              "      <td>11.690000</td>\n",
              "      <td>19.100000</td>\n",
              "      <td>4.389000e+05</td>\n",
              "    </tr>\n",
              "    <tr>\n",
              "      <th>75%</th>\n",
              "      <td>6.575000</td>\n",
              "      <td>17.120000</td>\n",
              "      <td>20.200000</td>\n",
              "      <td>5.187000e+05</td>\n",
              "    </tr>\n",
              "    <tr>\n",
              "      <th>max</th>\n",
              "      <td>8.398000</td>\n",
              "      <td>37.970000</td>\n",
              "      <td>22.000000</td>\n",
              "      <td>1.024800e+06</td>\n",
              "    </tr>\n",
              "  </tbody>\n",
              "</table>\n",
              "</div>\n",
              "      <button class=\"colab-df-convert\" onclick=\"convertToInteractive('df-8faa54b9-9231-43d0-8c7b-da04d7370bc4')\"\n",
              "              title=\"Convert this dataframe to an interactive table.\"\n",
              "              style=\"display:none;\">\n",
              "        \n",
              "  <svg xmlns=\"http://www.w3.org/2000/svg\" height=\"24px\"viewBox=\"0 0 24 24\"\n",
              "       width=\"24px\">\n",
              "    <path d=\"M0 0h24v24H0V0z\" fill=\"none\"/>\n",
              "    <path d=\"M18.56 5.44l.94 2.06.94-2.06 2.06-.94-2.06-.94-.94-2.06-.94 2.06-2.06.94zm-11 1L8.5 8.5l.94-2.06 2.06-.94-2.06-.94L8.5 2.5l-.94 2.06-2.06.94zm10 10l.94 2.06.94-2.06 2.06-.94-2.06-.94-.94-2.06-.94 2.06-2.06.94z\"/><path d=\"M17.41 7.96l-1.37-1.37c-.4-.4-.92-.59-1.43-.59-.52 0-1.04.2-1.43.59L10.3 9.45l-7.72 7.72c-.78.78-.78 2.05 0 2.83L4 21.41c.39.39.9.59 1.41.59.51 0 1.02-.2 1.41-.59l7.78-7.78 2.81-2.81c.8-.78.8-2.07 0-2.86zM5.41 20L4 18.59l7.72-7.72 1.47 1.35L5.41 20z\"/>\n",
              "  </svg>\n",
              "      </button>\n",
              "      \n",
              "  <style>\n",
              "    .colab-df-container {\n",
              "      display:flex;\n",
              "      flex-wrap:wrap;\n",
              "      gap: 12px;\n",
              "    }\n",
              "\n",
              "    .colab-df-convert {\n",
              "      background-color: #E8F0FE;\n",
              "      border: none;\n",
              "      border-radius: 50%;\n",
              "      cursor: pointer;\n",
              "      display: none;\n",
              "      fill: #1967D2;\n",
              "      height: 32px;\n",
              "      padding: 0 0 0 0;\n",
              "      width: 32px;\n",
              "    }\n",
              "\n",
              "    .colab-df-convert:hover {\n",
              "      background-color: #E2EBFA;\n",
              "      box-shadow: 0px 1px 2px rgba(60, 64, 67, 0.3), 0px 1px 3px 1px rgba(60, 64, 67, 0.15);\n",
              "      fill: #174EA6;\n",
              "    }\n",
              "\n",
              "    [theme=dark] .colab-df-convert {\n",
              "      background-color: #3B4455;\n",
              "      fill: #D2E3FC;\n",
              "    }\n",
              "\n",
              "    [theme=dark] .colab-df-convert:hover {\n",
              "      background-color: #434B5C;\n",
              "      box-shadow: 0px 1px 3px 1px rgba(0, 0, 0, 0.15);\n",
              "      filter: drop-shadow(0px 1px 2px rgba(0, 0, 0, 0.3));\n",
              "      fill: #FFFFFF;\n",
              "    }\n",
              "  </style>\n",
              "\n",
              "      <script>\n",
              "        const buttonEl =\n",
              "          document.querySelector('#df-8faa54b9-9231-43d0-8c7b-da04d7370bc4 button.colab-df-convert');\n",
              "        buttonEl.style.display =\n",
              "          google.colab.kernel.accessAllowed ? 'block' : 'none';\n",
              "\n",
              "        async function convertToInteractive(key) {\n",
              "          const element = document.querySelector('#df-8faa54b9-9231-43d0-8c7b-da04d7370bc4');\n",
              "          const dataTable =\n",
              "            await google.colab.kernel.invokeFunction('convertToInteractive',\n",
              "                                                     [key], {});\n",
              "          if (!dataTable) return;\n",
              "\n",
              "          const docLinkHtml = 'Like what you see? Visit the ' +\n",
              "            '<a target=\"_blank\" href=https://colab.research.google.com/notebooks/data_table.ipynb>data table notebook</a>'\n",
              "            + ' to learn more about interactive tables.';\n",
              "          element.innerHTML = '';\n",
              "          dataTable['output_type'] = 'display_data';\n",
              "          await google.colab.output.renderOutput(dataTable, element);\n",
              "          const docLink = document.createElement('div');\n",
              "          docLink.innerHTML = docLinkHtml;\n",
              "          element.appendChild(docLink);\n",
              "        }\n",
              "      </script>\n",
              "    </div>\n",
              "  </div>\n",
              "  "
            ]
          },
          "metadata": {},
          "execution_count": 26
        }
      ]
    },
    {
      "cell_type": "code",
      "source": [
        "correlation = house_price_data.corr()\n",
        "print(correlation)\n",
        "\n",
        "#constructing a heat map \n",
        "plt.figure(figsize=(5,5))\n",
        "sns.heatmap(correlation, cbar=True, fmt='.1f', annot = True, annot_kws={'size':8}, cmap ='Blues' )\n",
        "\n",
        "#light color is negative correlation\n"
      ],
      "metadata": {
        "colab": {
          "base_uri": "https://localhost:8080/",
          "height": 555
        },
        "id": "-VprVFWSa5co",
        "outputId": "7a908fef-04fe-43e0-88d1-e74458df4c34"
      },
      "execution_count": null,
      "outputs": [
        {
          "output_type": "stream",
          "name": "stdout",
          "text": [
            "               RM     LSTAT   PTRATIO      MEDV\n",
            "RM       1.000000 -0.612033 -0.304559  0.697209\n",
            "LSTAT   -0.612033  1.000000  0.360445 -0.760670\n",
            "PTRATIO -0.304559  0.360445  1.000000 -0.519034\n",
            "MEDV     0.697209 -0.760670 -0.519034  1.000000\n"
          ]
        },
        {
          "output_type": "execute_result",
          "data": {
            "text/plain": [
              "<Axes: >"
            ]
          },
          "metadata": {},
          "execution_count": 27
        },
        {
          "output_type": "display_data",
          "data": {
            "text/plain": [
              "<Figure size 500x500 with 2 Axes>"
            ],
            "image/png": "[encoded data removed]"
          },
          "metadata": {}
        }
      ]
    },
    {
      "cell_type": "code",
      "source": [
        "X =  house_price_data.drop(['MEDV'], axis=1)\n",
        "Y = house_price_data['MEDV']\n",
        "print(X)\n",
        "print(Y)"
      ],
      "metadata": {
        "colab": {
          "base_uri": "https://localhost:8080/"
        },
        "id": "M-IHSczsbciA",
        "outputId": "b0943d6c-853a-4320-af24-76ffb9d77a77"
      },
      "execution_count": null,
      "outputs": [
        {
          "output_type": "stream",
          "name": "stdout",
          "text": [
            "        RM  LSTAT  PTRATIO\n",
            "0    6.575   4.98     15.3\n",
            "1    6.421   9.14     17.8\n",
            "2    7.185   4.03     17.8\n",
            "3    6.998   2.94     18.7\n",
            "4    7.147   5.33     18.7\n",
            "..     ...    ...      ...\n",
            "484  6.593   9.67     21.0\n",
            "485  6.120   9.08     21.0\n",
            "486  6.976   5.64     21.0\n",
            "487  6.794   6.48     21.0\n",
            "488  6.030   7.88     21.0\n",
            "\n",
            "[489 rows x 3 columns]\n",
            "0      504000.0\n",
            "1      453600.0\n",
            "2      728700.0\n",
            "3      701400.0\n",
            "4      760200.0\n",
            "         ...   \n",
            "484    470400.0\n",
            "485    432600.0\n",
            "486    501900.0\n",
            "487    462000.0\n",
            "488    249900.0\n",
            "Name: MEDV, Length: 489, dtype: float64\n"
          ]
        }
      ]
    },
    {
      "cell_type": "code",
      "source": [
        "X_train, X_test, Y_train, Y_test = train_test_split(X,Y, test_size=0.2, random_state=2, shuffle =True)"
      ],
      "metadata": {
        "id": "9NwjRXzdn6_o"
      },
      "execution_count": null,
      "outputs": []
    },
    {
      "cell_type": "code",
      "source": [
        "#model training\n",
        "model = XGBRegressor()\n",
        "model.fit(X_train, Y_train)"
      ],
      "metadata": {
        "colab": {
          "base_uri": "https://localhost:8080/",
          "height": 248
        },
        "id": "wzUJWHAPogxY",
        "outputId": "0601b9f1-62d9-4e11-b0c0-e4d16a5470f5"
      },
      "execution_count": null,
      "outputs": [
        {
          "output_type": "execute_result",
          "data": {
            "text/plain": [
              "XGBRegressor(base_score=None, booster=None, callbacks=None,\n",
              "             colsample_bylevel=None, colsample_bynode=None,\n",
              "             colsample_bytree=None, early_stopping_rounds=None,\n",
              "             enable_categorical=False, eval_metric=None, feature_types=None,\n",
              "             gamma=None, gpu_id=None, grow_policy=None, importance_type=None,\n",
              "             interaction_constraints=None, learning_rate=None, max_bin=None,\n",
              "             max_cat_threshold=None, max_cat_to_onehot=None,\n",
              "             max_delta_step=None, max_depth=None, max_leaves=None,\n",
              "             min_child_weight=None, missing=nan, monotone_constraints=None,\n",
              "             n_estimators=100, n_jobs=None, num_parallel_tree=None,\n",
              "             predictor=None, random_state=None, ...)"
            ],
            "text/html": [
              "<style>#sk-container-id-2 {color: black;background-color: white;}#sk-container-id-2 pre{padding: 0;}#sk-container-id-2 div.sk-toggleable {background-color: white;}#sk-container-id-2 label.sk-toggleable__label {cursor: pointer;display: block;width: 100%;margin-bottom: 0;padding: 0.3em;box-sizing: border-box;text-align: center;}#sk-container-id-2 label.sk-toggleable__label-arrow:before {content: \"▸\";float: left;margin-right: 0.25em;color: #696969;}#sk-container-id-2 label.sk-toggleable__label-arrow:hover:before {color: black;}#sk-container-id-2 div.sk-estimator:hover label.sk-toggleable__label-arrow:before {color: black;}#sk-container-id-2 div.sk-toggleable__content {max-height: 0;max-width: 0;overflow: hidden;text-align: left;background-color: #f0f8ff;}#sk-container-id-2 div.sk-toggleable__content pre {margin: 0.2em;color: black;border-radius: 0.25em;background-color: #f0f8ff;}#sk-container-id-2 input.sk-toggleable__control:checked~div.sk-toggleable__content {max-height: 200px;max-width: 100%;overflow: auto;}#sk-container-id-2 input.sk-toggleable__control:checked~label.sk-toggleable__label-arrow:before {content: \"▾\";}#sk-container-id-2 div.sk-estimator input.sk-toggleable__control:checked~label.sk-toggleable__label {background-color: #d4ebff;}#sk-container-id-2 div.sk-label input.sk-toggleable__control:checked~label.sk-toggleable__label {background-color: #d4ebff;}#sk-container-id-2 input.sk-hidden--visually {border: 0;clip: rect(1px 1px 1px 1px);clip: rect(1px, 1px, 1px, 1px);height: 1px;margin: -1px;overflow: hidden;padding: 0;position: absolute;width: 1px;}#sk-container-id-2 div.sk-estimator {font-family: monospace;background-color: #f0f8ff;border: 1px dotted black;border-radius: 0.25em;box-sizing: border-box;margin-bottom: 0.5em;}#sk-container-id-2 div.sk-estimator:hover {background-color: #d4ebff;}#sk-container-id-2 div.sk-parallel-item::after {content: \"\";width: 100%;border-bottom: 1px solid gray;flex-grow: 1;}#sk-container-id-2 div.sk-label:hover label.sk-toggleable__label {background-color: #d4ebff;}#sk-container-id-2 div.sk-serial::before {content: \"\";position: absolute;border-left: 1px solid gray;box-sizing: border-box;top: 0;bottom: 0;left: 50%;z-index: 0;}#sk-container-id-2 div.sk-serial {display: flex;flex-direction: column;align-items: center;background-color: white;padding-right: 0.2em;padding-left: 0.2em;position: relative;}#sk-container-id-2 div.sk-item {position: relative;z-index: 1;}#sk-container-id-2 div.sk-parallel {display: flex;align-items: stretch;justify-content: center;background-color: white;position: relative;}#sk-container-id-2 div.sk-item::before, #sk-container-id-2 div.sk-parallel-item::before {content: \"\";position: absolute;border-left: 1px solid gray;box-sizing: border-box;top: 0;bottom: 0;left: 50%;z-index: -1;}#sk-container-id-2 div.sk-parallel-item {display: flex;flex-direction: column;z-index: 1;position: relative;background-color: white;}#sk-container-id-2 div.sk-parallel-item:first-child::after {align-self: flex-end;width: 50%;}#sk-container-id-2 div.sk-parallel-item:last-child::after {align-self: flex-start;width: 50%;}#sk-container-id-2 div.sk-parallel-item:only-child::after {width: 0;}#sk-container-id-2 div.sk-dashed-wrapped {border: 1px dashed gray;margin: 0 0.4em 0.5em 0.4em;box-sizing: border-box;padding-bottom: 0.4em;background-color: white;}#sk-container-id-2 div.sk-label label {font-family: monospace;font-weight: bold;display: inline-block;line-height: 1.2em;}#sk-container-id-2 div.sk-label-container {text-align: center;}#sk-container-id-2 div.sk-container {/* jupyter's `normalize.less` sets `[hidden] { display: none; }` but bootstrap.min.css set `[hidden] { display: none !important; }` so we also need the `!important` here to be able to override the default hidden behavior on the sphinx rendered scikit-learn.org. See: https://github.com/scikit-learn/scikit-learn/issues/21755 */display: inline-block !important;position: relative;}#sk-container-id-2 div.sk-text-repr-fallback {display: none;}</style><div id=\"sk-container-id-2\" class=\"sk-top-container\"><div class=\"sk-text-repr-fallback\"><pre>XGBRegressor(base_score=None, booster=None, callbacks=None,\n",
              "             colsample_bylevel=None, colsample_bynode=None,\n",
              "             colsample_bytree=None, early_stopping_rounds=None,\n",
              "             enable_categorical=False, eval_metric=None, feature_types=None,\n",
              "             gamma=None, gpu_id=None, grow_policy=None, importance_type=None,\n",
              "             interaction_constraints=None, learning_rate=None, max_bin=None,\n",
              "             max_cat_threshold=None, max_cat_to_onehot=None,\n",
              "             max_delta_step=None, max_depth=None, max_leaves=None,\n",
              "             min_child_weight=None, missing=nan, monotone_constraints=None,\n",
              "             n_estimators=100, n_jobs=None, num_parallel_tree=None,\n",
              "             predictor=None, random_state=None, ...)</pre><b>In a Jupyter environment, please rerun this cell to show the HTML representation or trust the notebook. <br />On GitHub, the HTML representation is unable to render, please try loading this page with nbviewer.org.</b></div><div class=\"sk-container\" hidden><div class=\"sk-item\"><div class=\"sk-estimator sk-toggleable\"><input class=\"sk-toggleable__control sk-hidden--visually\" id=\"sk-estimator-id-2\" type=\"checkbox\" checked><label for=\"sk-estimator-id-2\" class=\"sk-toggleable__label sk-toggleable__label-arrow\">XGBRegressor</label><div class=\"sk-toggleable__content\"><pre>XGBRegressor(base_score=None, booster=None, callbacks=None,\n",
              "             colsample_bylevel=None, colsample_bynode=None,\n",
              "             colsample_bytree=None, early_stopping_rounds=None,\n",
              "             enable_categorical=False, eval_metric=None, feature_types=None,\n",
              "             gamma=None, gpu_id=None, grow_policy=None, importance_type=None,\n",
              "             interaction_constraints=None, learning_rate=None, max_bin=None,\n",
              "             max_cat_threshold=None, max_cat_to_onehot=None,\n",
              "             max_delta_step=None, max_depth=None, max_leaves=None,\n",
              "             min_child_weight=None, missing=nan, monotone_constraints=None,\n",
              "             n_estimators=100, n_jobs=None, num_parallel_tree=None,\n",
              "             predictor=None, random_state=None, ...)</pre></div></div></div></div></div>"
            ]
          },
          "metadata": {},
          "execution_count": 30
        }
      ]
    },
    {
      "cell_type": "code",
      "source": [
        "#model evaluation\n",
        "training_data_prediction = model.predict(X_train)\n",
        "print(training_data_prediction)\n",
        "\n",
        "\n"
      ],
      "metadata": {
        "colab": {
          "base_uri": "https://localhost:8080/"
        },
        "id": "UM0AgEXIokXd",
        "outputId": "ab5229de-ed8b-46e9-d9e0-78b25bd1adcb"
      },
      "execution_count": null,
      "outputs": [
        {
          "output_type": "stream",
          "name": "stdout",
          "text": [
            "[ 405247.28  426922.75  559945.2   499750.2   181138.83  458718.4\n",
            "  360702.75  657246.5   665706.94  229552.39  449962.8   356688.03\n",
            "  475844.12  387991.06  726962.6   302455.84  597436.94  437218.88\n",
            "  466406.53  366179.25  427043.5   377458.6   181921.48  242247.2\n",
            "  360655.5   517901.5   231625.8   456420.    180035.44  509141.9\n",
            "  619996.1  1008413.25  498681.2   508653.5   334431.06  373152.34\n",
            "  494776.94  327879.3   264194.2   835349.    316813.47  282274.66\n",
            "  366723.1   401584.56  569765.9   473543.6   576158.06  407330.5\n",
            "  397615.78  500850.16  271308.66  487782.03  111468.3   441769.22\n",
            "  208889.64  289186.2   685153.06  533914.9   511094.22  375052.12\n",
            "  430940.84  417979.6   364737.84  590299.94  594458.2   702265.7\n",
            "  530272.1   490490.72  161760.55  687188.7   477163.2   289788.62\n",
            "  380863.06  490419.6   214232.94  483072.16  264607.7   661569.5\n",
            "  428290.22  724769.1   220151.    478548.12  410908.    858892.\n",
            "  472726.72  395720.    461245.53  472419.97  414860.88  406499.06\n",
            "  396337.03  405211.9   627381.94  205223.28  697517.06  380283.97\n",
            "  233762.23  394568.3   537963.06  377580.94  464166.06  523315.22\n",
            "  416187.5   657860.7   305112.53  675647.3   307528.9   917112.94\n",
            "  610103.9   423577.4   308700.1   293214.88  437189.84  249337.83\n",
            "  391589.03  322787.22  943683.1   173397.92  407709.47  639847.06\n",
            "  493977.1   409935.38  507496.6   438753.56  508643.16  618132.56\n",
            "  345184.78  331808.72  409961.9   584076.25  341051.7   518993.2\n",
            "  408598.25  670353.75  213427.19  404181.5   290146.22  709635.2\n",
            "  289996.    506113.44  372308.5   406295.53  465140.66  214348.14\n",
            "  490309.5   148327.69  675757.7   303296.78  276639.2   176742.5\n",
            "  667792.44  455090.16  562920.06  700337.94  640814.7   623643.\n",
            "  489470.44  465989.75  187024.83  401705.78  181926.4   756541.1\n",
            "  362851.12  422314.53  221694.11  299253.9   498929.12  404542.4\n",
            "  550419.44  223873.53 1022739.4   519543.16  119767.27  489802.06\n",
            "  517686.62  282321.53  454416.25  465917.78  693063.94  956503.7\n",
            "  523421.66  376468.78  461217.34  416337.3   275578.7   414159.34\n",
            "  333468.    402084.34  553620.44  131454.84  598007.06  447857.47\n",
            "  394821.2   979209.94  293433.3   589816.7   382639.56  529918.56\n",
            "  520577.03  427027.38  527036.4   384706.8   375085.28  464455.97\n",
            "  585245.4   734158.75  465354.34  471436.25  412326.06  513131.8\n",
            "  246737.53  394040.94  431466.94  405962.97  631052.44  343464.88\n",
            "  433576.06  420886.28  301487.3   425397.78  470904.1   520813.12\n",
            "  292138.28  423812.6   356044.25  486469.16  440644.22  489903.7\n",
            " 1016939.    644441.25  373547.97  387513.16  431057.53  432478.38\n",
            "  346602.47  373365.12  246326.08  447541.2   638361.06  464330.4\n",
            "  412295.88  618169.94  961040.8   299226.72  508912.94  317737.62\n",
            "  445698.06  398070.34  421745.12  242262.52  372620.3   249359.27\n",
            "  419799.84  669058.25  314342.1   561051.1   760219.25  377379.62\n",
            "  510936.53  312719.78  449543.6   449360.66  521583.72  693614.7\n",
            "  482077.66  898716.6   465648.5   510516.88  310582.62  414764.25\n",
            "  637092.56  290119.38  743692.4   762011.56  372169.5   436575.5\n",
            "  290812.84  327972.53  344796.84  507186.3   326791.9   676366.06\n",
            "  412078.7   420260.97  431530.22  523996.6   249300.44  324004.03\n",
            "  362220.53  434364.1   479593.16  876017.5   279504.72  660677.56\n",
            "  447624.    465946.38  381898.22  813502.94  446225.28  332638.88\n",
            "  503273.47  254758.53  439271.94  251871.36  519870.22  381452.84\n",
            "  466206.88  389973.16  466443.9   356868.34  467207.56  282905.66\n",
            "  593438.75  279477.78  650525.2   420294.62  315432.22  354493.78\n",
            "  613651.1   518581.34  458353.34  482043.9   905005.56  248037.92\n",
            "  261426.64  774772.5   490385.53  321030.53  922507.4   286157.\n",
            "  197287.75  440996.12  572771.75  428159.8   746164.    365906.28\n",
            "  277753.8   701294.1   405533.5   491248.25  171350.5   319052.28\n",
            "  482068.44  422545.78  497769.94  525503.9   590847.6   312241.3\n",
            "  425742.    450917.97  436113.47  456831.6   891892.75  503662.75\n",
            "  408820.5   444346.8   765374.8   183796.64  485144.97  276404.62\n",
            "  505377.16  288994.5   437883.3   220229.5   318169.9   448920.47\n",
            "  397816.34  505279.34  404881.1   750087.25  445527.62  396086.47\n",
            "  299929.25  792770.44  472160.    420688.62  354092.78  568636.4\n",
            "  366721.62  589427.4   288425.5   521954.84  743118.06  279261.2\n",
            "  457890.47  450817.03  337340.88  323717.5   479225.38  416715.8\n",
            "  484013.3 ]\n"
          ]
        }
      ]
    },
    {
      "cell_type": "code",
      "source": [
        "score1 = metrics.r2_score(Y_train, training_data_prediction)\n",
        "print(score1)"
      ],
      "metadata": {
        "colab": {
          "base_uri": "https://localhost:8080/"
        },
        "id": "mA3KmGIk4IIp",
        "outputId": "d210b868-1a35-4614-a671-7dbcc178c636"
      },
      "execution_count": null,
      "outputs": [
        {
          "output_type": "stream",
          "name": "stdout",
          "text": [
            "0.9989101715438984\n"
          ]
        }
      ]
    },
    {
      "cell_type": "code",
      "source": [
        "test_data_prediction = model.predict(X_test)\n",
        "score2 = metrics.r2_score(Y_test , test_data_prediction)\n",
        "print(score2)"
      ],
      "metadata": {
        "colab": {
          "base_uri": "https://localhost:8080/"
        },
        "id": "T1L-VqLP48dT",
        "outputId": "26905d8c-98cd-409b-bcfc-946875c2518a"
      },
      "execution_count": null,
      "outputs": [
        {
          "output_type": "stream",
          "name": "stdout",
          "text": [
            "0.7895987898308828\n"
          ]
        }
      ]
    },
    {
      "cell_type": "code",
      "source": [
        "plt.scatter(Y_train, training_data_prediction)\n",
        "plt.xlabel('Actual Prizes')\n",
        "plt.ylabel('Predicted Prizes')\n",
        "plt.show()"
      ],
      "metadata": {
        "colab": {
          "base_uri": "https://localhost:8080/",
          "height": 465
        },
        "id": "NtS0KRJE5vBH",
        "outputId": "7398e10f-613d-4488-9a08-2f3791ee5c34"
      },
      "execution_count": null,
      "outputs": [
        {
          "output_type": "display_data",
          "data": {
            "text/plain": [
              "<Figure size 640x480 with 1 Axes>"
            ],
            "image/png": "[encoded data removed]"
          },
          "metadata": {}
        }
      ]
    },
    {
      "cell_type": "code",
      "source": [
        "#changing the input data to numpy array\n",
        "\n",
        "input_data = (6.575,4.98,15.3)\n",
        "input_data_as_numpy_array = np.asarray(input_data)\n",
        "\n",
        "#reshape the np array as we are predicting for one instance\n",
        "input_data_reshaped = input_data_as_numpy_array.reshape(1,-1)\n",
        "\n",
        "prediction = model.predict(input_data_reshaped)\n",
        "print(prediction)"
      ],
      "metadata": {
        "colab": {
          "base_uri": "https://localhost:8080/"
        },
        "id": "6N3RlVeK6LQY",
        "outputId": "a62be95f-7158-456b-deb9-7298e9a7056d"
      },
      "execution_count": null,
      "outputs": [
        {
          "output_type": "stream",
          "name": "stdout",
          "text": [
            "[510516.88]\n"
          ]
        }
      ]
    },
    {
      "cell_type": "code",
      "source": [
        "import pickle\n",
        "filename = 'trained_model.sav'\n",
        "pickle.dump(model, open(filename, 'wb'))\n",
        "\n",
        "# loading the saved model\n",
        "loaded_model = pickle.load(open('trained_model.sav', 'rb'))\n"
      ],
      "metadata": {
        "id": "VveoQ4Ab7_Hf"
      },
      "execution_count": null,
      "outputs": []
    },
    {
      "cell_type": "code",
      "source": [],
      "metadata": {
        "id": "m_W2XuXYDp6Q"
      },
      "execution_count": null,
      "outputs": []
    }
  ]
}
